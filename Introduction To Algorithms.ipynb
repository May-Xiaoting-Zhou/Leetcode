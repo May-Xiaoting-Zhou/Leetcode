{
 "cells": [
  {
   "cell_type": "code",
   "execution_count": 14,
   "metadata": {},
   "outputs": [],
   "source": [
    "class Algorithms(object):\n",
    "    # INSERTION SORT (n^2)\n",
    "    def INSERTION_SORT(self, lst):\n",
    "        for j in range(1, len(lst)):\n",
    "            key = lst[j]\n",
    "            i = j - 1\n",
    "            while i >= 0 and lst[i] > key:\n",
    "                lst[i+1] = lst[i]\n",
    "                i -= 1\n",
    "            lst[i + 1] = key\n",
    "    \n",
    "    # MERGE SORT (nlgn)\n",
    "    def MERGE(self, lst, p, q, r):\n",
    "        n1 = q - p + 1\n",
    "        n2 = r - q\n",
    "        L = [float('inf')] * (n1 + 1)\n",
    "        R = [float('inf')] * (n2 + 1)\n",
    "\n",
    "        for i in range(n1):\n",
    "            L[i] = lst[p + i]\n",
    "        for j in range(n2):\n",
    "            R[j] = lst[q + j + 1]\n",
    "\n",
    "        i, j = 0, 0\n",
    "\n",
    "        for k in range(p, r+1):\n",
    "            if L[i] <= R[j]:\n",
    "                lst[k] = L[i]\n",
    "                i += 1\n",
    "            else:\n",
    "                lst[k] = R[j]\n",
    "                j += 1\n",
    "                \n",
    "    def MERGE_SORT(self, lst, p, r):\n",
    "        if p < r:\n",
    "            q = (p + r) // 2\n",
    "            self.MERGE_SORT(lst, p, q)\n",
    "            self.MERGE_SORT(lst, q + 1, r)\n",
    "            self.MERGE(lst, p, q, r)\n",
    "    \n",
    "    # FIND MAXIMUM SUBARRAY (nlgn)\n",
    "    def FIND_MAX_CROSSING_SUBARRAY(self, lst, low, mid, high):\n",
    "        left_sum = float('-inf')\n",
    "        sum = 0\n",
    "        for i in range(mid, low-1, -1):\n",
    "            sum += lst[i]\n",
    "            if sum > left_sum:\n",
    "                left_sum = sum\n",
    "                max_left = i\n",
    "\n",
    "        right_sum = float('-inf')\n",
    "        sum = 0\n",
    "        for j in range(mid+1, high+1):\n",
    "            sum += lst[j]\n",
    "            if sum > right_sum:\n",
    "                right_sum = sum\n",
    "                max_right = j\n",
    "        return (max_left, max_right, left_sum + right_sum)\n",
    "\n",
    "    def FIND_MAXIMUM_SUBARRAY(self, lst, low, high):\n",
    "        if high == low:\n",
    "            return (low, high, lst[low])\n",
    "        else:\n",
    "            mid = (low + high) // 2\n",
    "            (left_low, left_high, left_sum) = self.FIND_MAXIMUM_SUBARRAY(lst, low, mid)\n",
    "            (right_low, right_high, right_sum) = self.FIND_MAXIMUM_SUBARRAY(lst, mid+1, high)\n",
    "            (cross_low, cross_high, cross_sum) = self.FIND_MAX_CROSSING_SUBARRAY(lst, low, mid, high)\n",
    "            if left_sum >= right_sum and left_sum >= cross_sum:\n",
    "                return (left_low, left_high, left_sum)\n",
    "            elif right_sum >= left_sum and right_sum >= cross_sum:\n",
    "                return (right_low, right_high, right_sum)\n",
    "            else:\n",
    "                return (cross_low, cross_high, cross_sum)\n",
    "    \n",
    "    def SQUARE_MATRIX_MULTIPLY(self, A, B):\n",
    "        n = len(A)\n",
    "        C = [[0] * n for _ in range(n)]\n",
    "        for i in range(n):\n",
    "            for j in range(n):\n",
    "                c_ij = 0\n",
    "                for k in range(n):\n",
    "                    c_ij += A[i][k] * B[k][j]\n",
    "                    C[i][j] = c_ij\n",
    "        return C\n",
    "    \n",
    "    def SQUARE_MATRIX_MULPIPLY_RECURSIVE(self, A, B):\n",
    "        n = len(A)\n",
    "        C = [[0] * n for _ in range(n)]\n",
    "        if n == 1:\n",
    "            C[0][0] = A[0][0] * B[0][0]\n",
    "        # TODO\n",
    "        else:\n",
    "            i, j = 0, 0\n",
    "            C[i][j] = self.SQUARE_MATRIX_MULPIPLY_RECURSIVE(A[i][j], B[i][j]) + self.SQUARE_MATRIX_MULPIPLY_RECURSIVE(A[i][j+1], B[i+1][j])\n",
    "            C[i][j+1] = self.SQUARE_MATRIX_MULPIPLY_RECURSIVE(A[i][j], B[i][j+1]) + self.SQUARE_MATRIX_MULPIPLY_RECURSIVE(A[i][j+1], B[i+1][j+1])\n",
    "            C[i+1][j] = self.SQUARE_MATRIX_MULPIPLY_RECURSIVE(A[i+1][j], B[i][j]) + self.SQUARE_MATRIX_MULPIPLY_RECURSIVE(A[i+1][j+1], B[i+1][j])\n",
    "            C[i+1][j+1] = self.SQUARE_MATRIX_MULPIPLY_RECURSIVE(A[i+1][j], B[i][j+1]) + self.SQUARE_MATRIX_MULPIPLY_RECURSIVE(A[i+1][j+1], B[i+1][j+1])\n",
    "        return C\n",
    "\n"
   ]
  },
  {
   "cell_type": "code",
   "execution_count": 36,
   "metadata": {},
   "outputs": [],
   "source": [
    "A = Algorithms()\n",
    "lst = [4, 8, 10, 2, 0, 9]"
   ]
  },
  {
   "cell_type": "code",
   "execution_count": 11,
   "metadata": {},
   "outputs": [
    {
     "data": {
      "text/plain": [
       "[0, 2, 4, 8, 9, 10]"
      ]
     },
     "execution_count": 11,
     "metadata": {},
     "output_type": "execute_result"
    }
   ],
   "source": [
    "# INSERTION SORT\n",
    "A.INSERTION_SORT(lst)\n",
    "lst"
   ]
  },
  {
   "cell_type": "code",
   "execution_count": 37,
   "metadata": {},
   "outputs": [
    {
     "data": {
      "text/plain": [
       "[0, 2, 4, 8, 9, 10]"
      ]
     },
     "execution_count": 37,
     "metadata": {},
     "output_type": "execute_result"
    }
   ],
   "source": [
    "# MERGE SORT\n",
    "A.MERGE_SORT(lst, 0, len(lst) - 1)\n",
    "lst"
   ]
  },
  {
   "cell_type": "code",
   "execution_count": 44,
   "metadata": {},
   "outputs": [],
   "source": [
    "A = Algorithms()\n",
    "lst = [-4, 8, 10, -2, 0, 9, -12, -4, 100, -40, 3, 24, -1]"
   ]
  },
  {
   "cell_type": "code",
   "execution_count": 46,
   "metadata": {},
   "outputs": [
    {
     "data": {
      "text/plain": [
       "(1, 8, 109)"
      ]
     },
     "execution_count": 46,
     "metadata": {},
     "output_type": "execute_result"
    }
   ],
   "source": [
    "(low, high, sum) = A.FIND_MAXIMUM_SUBARRAY(lst, 0, len(lst)-1)\n",
    "(low, high, sum)"
   ]
  },
  {
   "cell_type": "code",
   "execution_count": 15,
   "metadata": {},
   "outputs": [
    {
     "data": {
      "text/plain": [
       "[[30, 24, 18], [84, 69, 54], [138, 114, 90]]"
      ]
     },
     "execution_count": 15,
     "metadata": {},
     "output_type": "execute_result"
    }
   ],
   "source": [
    "A = Algorithms()\n",
    "MA = [[1, 2, 3], [4, 5, 6], [7, 8 ,9]]\n",
    "MB = [[9, 8, 7], [6, 5, 4], [3, 2, 1]]\n",
    "MC = A.SQUARE_MATRIX_MULTIPLY(MA, MB)\n",
    "MC"
   ]
  },
  {
   "cell_type": "code",
   "execution_count": 11,
   "metadata": {},
   "outputs": [
    {
     "name": "stdout",
     "output_type": "stream",
     "text": [
      "[[ 30  24  18]\n",
      " [ 84  69  54]\n",
      " [138 114  90]]\n"
     ]
    }
   ],
   "source": [
    "import numpy as np\n",
    "\n",
    "# Define matrices X and Y (same as above)\n",
    "X = np.array(MA)\n",
    "Y = np.array(MB)\n",
    "\n",
    "# Perform matrix multiplication\n",
    "result = np.matmul(X, Y)\n",
    "\n",
    "# Print the result\n",
    "print(result)\n"
   ]
  }
 ],
 "metadata": {
  "kernelspec": {
   "display_name": "base",
   "language": "python",
   "name": "python3"
  },
  "language_info": {
   "codemirror_mode": {
    "name": "ipython",
    "version": 3
   },
   "file_extension": ".py",
   "mimetype": "text/x-python",
   "name": "python",
   "nbconvert_exporter": "python",
   "pygments_lexer": "ipython3",
   "version": "3.12.2"
  }
 },
 "nbformat": 4,
 "nbformat_minor": 2
}
