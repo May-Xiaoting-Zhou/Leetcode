{
 "cells": [
  {
   "cell_type": "markdown",
   "metadata": {},
   "source": [
    "## Gradient Descent\n",
    "\n",
    "Your task is to minimize the function via Gradient Descent: \n",
    "f(x)=x^2\n",
    "\n",
    "Gradient Descent is an optimization technique widely used in machine learning for training models. It is crucial for minimizing the cost or loss function and finding the optimal parameters of a model.\n",
    "\n",
    "For the above function the minimizer is clearly x = 0, but you must implement an iterative approximation algorithm, through gradient descent.\n",
    "\n",
    "Input:\n",
    "\n",
    "iterations - the number of iterations to perform gradient descent. iterations >= 0.\n",
    "learning_rate - the learning rate for gradient descent. 1 > learning_rate > 0.\n",
    "init - the initial guess for the minimizer. init != 0.\n",
    "Given the number of iterations to perform gradient descent, the learning rate, and an initial guess, return the value of x that globally minimizes this function.\n",
    "\n",
    "Round your final result to 5 decimal places using Python's round() function."
   ]
  },
  {
   "cell_type": "code",
   "execution_count": 14,
   "metadata": {},
   "outputs": [],
   "source": [
    "class Solution:\n",
    "    def get_minimizer(self, iterations: int, learning_rate: float, init: int) -> float:\n",
    "        for i in range(iterations):\n",
    "            init -= learning_rate * 2 * init\n",
    "        return round(init, 5)\n",
    "    "
   ]
  },
  {
   "cell_type": "code",
   "execution_count": 7,
   "metadata": {},
   "outputs": [
    {
     "name": "stdout",
     "output_type": "stream",
     "text": [
      "result= 3*x**2 + 2\n",
      "The derivative of x**3 + 2*x + 9 is: 3*x**2 + 2\n"
     ]
    }
   ],
   "source": [
    "from sympy import symbols, diff, sympify\n",
    "\n",
    "def calculate_derivative(equation: str, x_tr: int) -> str:\n",
    "    \"\"\"\n",
    "    Calculate the derivative of a given mathematical equation.\n",
    "\n",
    "    Args:\n",
    "        equation (str): The mathematical equation as a string, e.g., \"x^2\".\n",
    "\n",
    "    Returns:\n",
    "        str: The derivative of the equation as a string.\n",
    "    \"\"\"\n",
    "    x = symbols('x')  # Define x as the variable\n",
    "    try:\n",
    "        # Convert the equation string into a symbolic expression\n",
    "        expression = sympify(equation.replace(\"^\", \"**\"))  # Handle `^` as `**`\n",
    "        # Calculate the derivative\n",
    "        derivative = diff(expression, x)\n",
    "        print(\"result=\", derivative)\n",
    "        return str(derivative)\n",
    "    except Exception as e:\n",
    "        return f\"Error in processing equation: {e}\"\n",
    "\n",
    "# Example usage\n",
    "equation = \"x**3 + 2*x + 9\"\n",
    "derivative_result = calculate_derivative(equation, 9)\n",
    "print(f\"The derivative of {equation} is: {derivative_result}\")"
   ]
  },
  {
   "cell_type": "code",
   "execution_count": 8,
   "metadata": {},
   "outputs": [
    {
     "name": "stdout",
     "output_type": "stream",
     "text": [
      "The result of 3*x**2 + 2 when x = 2 is: 14.0\n"
     ]
    }
   ],
   "source": [
    "from sympy import symbols, sympify\n",
    "\n",
    "def evaluate_equation(equation: str, x_value: float) -> float:\n",
    "    \"\"\"\n",
    "    Evaluate a mathematical equation for a given value of x.\n",
    "\n",
    "    Args:\n",
    "        equation (str): The mathematical equation as a string, e.g., \"x^2 + 3*x + 2\".\n",
    "        x_value (float): The value of x to evaluate the equation.\n",
    "\n",
    "    Returns:\n",
    "        float: The result of the equation for the given x value.\n",
    "    \"\"\"\n",
    "    x = symbols('x')  # Define x as the variable\n",
    "    try:\n",
    "        # Convert the equation string into a symbolic expression\n",
    "        expression = sympify(equation.replace(\"^\", \"**\"))  # Handle `^` as `**`\n",
    "        # Substitute the value of x into the expression and evaluate it\n",
    "        result = expression.evalf(subs={x: x_value})\n",
    "        return float(result)\n",
    "    except Exception as e:\n",
    "        raise ValueError(f\"Error in processing equation: {e}\")\n",
    "\n",
    "x_value = 2\n",
    "result = evaluate_equation(derivative_result, x_value)\n",
    "print(f\"The result of {derivative_result} when x = {x_value} is: {result}\")"
   ]
  }
 ],
 "metadata": {
  "kernelspec": {
   "display_name": "base",
   "language": "python",
   "name": "python3"
  },
  "language_info": {
   "codemirror_mode": {
    "name": "ipython",
    "version": 3
   },
   "file_extension": ".py",
   "mimetype": "text/x-python",
   "name": "python",
   "nbconvert_exporter": "python",
   "pygments_lexer": "ipython3",
   "version": "3.12.2"
  }
 },
 "nbformat": 4,
 "nbformat_minor": 2
}
